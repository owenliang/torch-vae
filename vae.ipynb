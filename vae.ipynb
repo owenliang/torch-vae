{
 "cells": [
  {
   "cell_type": "code",
   "execution_count": 1,
   "id": "8f33de1f",
   "metadata": {},
   "outputs": [],
   "source": [
    "import torch\n",
    "import torchvision\n",
    "\n",
    "device=torch.device('cuda' if torch.cuda.is_available() else 'cpu')"
   ]
  },
  {
   "cell_type": "markdown",
   "id": "78c6db0c",
   "metadata": {},
   "source": [
    "数据集"
   ]
  },
  {
   "cell_type": "code",
   "execution_count": 2,
   "id": "2435c285",
   "metadata": {},
   "outputs": [],
   "source": [
    "transform=torchvision.transforms.Compose([\n",
    "    torchvision.transforms.ToTensor(),\n",
    "])\n",
    "dataset=torchvision.datasets.mnist.MNIST(root='./data',train=True,download=True,transform=transform)"
   ]
  },
  {
   "cell_type": "code",
   "execution_count": 3,
   "id": "763b7050",
   "metadata": {},
   "outputs": [
    {
     "name": "stdout",
     "output_type": "stream",
     "text": [
      "img=torch.Size([1, 28, 28]) label=5\n"
     ]
    }
   ],
   "source": [
    "img,label=dataset[0]\n",
    "print(f'img={img.shape} label={label}')"
   ]
  },
  {
   "cell_type": "markdown",
   "id": "b414335f",
   "metadata": {},
   "source": [
    "模型"
   ]
  },
  {
   "cell_type": "code",
   "execution_count": 4,
   "id": "14a2e7c8",
   "metadata": {},
   "outputs": [],
   "source": [
    "\n",
    "from torch.nn import functional as F\n",
    "\n",
    "class VAE(torch.nn.Module):\n",
    "    def __init__(self,input_size,hidden_size,latent_size):\n",
    "        super().__init__()\n",
    "        \n",
    "        self.fc1=torch.nn.Linear(in_features=input_size,out_features=hidden_size)\n",
    "        self.fc_mu=torch.nn.Linear(in_features=hidden_size,out_features=latent_size)\n",
    "        self.fc_logvar=torch.nn.Linear(in_features=hidden_size,out_features=latent_size)\n",
    "        \n",
    "        self.fc2=torch.nn.Linear(in_features=latent_size,out_features=hidden_size)\n",
    "        self.fc3=torch.nn.Linear(in_features=hidden_size,out_features=input_size)\n",
    "    \n",
    "    def reparameterize(self,mu,logvar):\n",
    "        '''\n",
    "        计算标准差std\n",
    "        1、log_var * 0.5 相当于 log(方差) * 0.5\n",
    "        2、根据对数性质log(a^n) = n * log(a)，这等于 log(方差^(1/2))\n",
    "        '''\n",
    "        std=torch.exp(logvar*0.5)\n",
    "        eps=torch.randn_like(mu)\n",
    "        return mu+eps*std\n",
    "    \n",
    "    def forward(self,x):\n",
    "        hidden=F.relu(self.fc1(x.view(x.size(0),-1)))\n",
    "        mu=self.fc_mu(hidden)\n",
    "        logvar=self.fc_logvar(hidden)\n",
    "        \n",
    "        z=self.reparameterize(mu,logvar)\n",
    "        \n",
    "        recon_x=F.relu(self.fc2(z))\n",
    "        recon_x=self.fc3(recon_x)\n",
    "        return F.sigmoid(recon_x).view(*x.size()),mu,logvar\n",
    "    \n",
    "    def decode(self,z):\n",
    "        recon_x=F.relu(self.fc2(z))\n",
    "        recon_x=self.fc3(recon_x)\n",
    "        return F.sigmoid(recon_x)\n"
   ]
  },
  {
   "cell_type": "markdown",
   "id": "09858d79",
   "metadata": {},
   "source": [
    "训练"
   ]
  },
  {
   "cell_type": "code",
   "execution_count": 5,
   "id": "77d3ac4c",
   "metadata": {},
   "outputs": [],
   "source": [
    "model=VAE(input_size=1*28*28,hidden_size=256,latent_size=20).to(device)\n",
    "dataloader=torch.utils.data.DataLoader(dataset,batch_size=1024,shuffle=True)\n",
    "optimizer=torch.optim.AdamW(model.parameters(),lr=1e-2,weight_decay=1e-4)"
   ]
  },
  {
   "cell_type": "code",
   "execution_count": 6,
   "id": "965e6609",
   "metadata": {},
   "outputs": [
    {
     "name": "stdout",
     "output_type": "stream",
     "text": [
      "epoch=0 loss=144.9186553955078\n",
      "epoch=1 loss=108.69416046142578\n",
      "epoch=2 loss=92.52863311767578\n",
      "epoch=3 loss=86.7397689819336\n",
      "epoch=4 loss=81.71833038330078\n",
      "epoch=5 loss=79.4777603149414\n",
      "epoch=6 loss=78.5658950805664\n",
      "epoch=7 loss=77.74374389648438\n",
      "epoch=8 loss=80.99681091308594\n",
      "epoch=9 loss=78.0080337524414\n",
      "epoch=10 loss=75.71537017822266\n",
      "epoch=11 loss=77.44837188720703\n",
      "epoch=12 loss=77.23356628417969\n",
      "epoch=13 loss=76.9455795288086\n",
      "epoch=14 loss=77.8197021484375\n",
      "epoch=15 loss=77.3636703491211\n",
      "epoch=16 loss=75.82036590576172\n",
      "epoch=17 loss=78.94355010986328\n",
      "epoch=18 loss=77.3430404663086\n",
      "epoch=19 loss=77.44664764404297\n",
      "epoch=20 loss=74.92322540283203\n",
      "epoch=21 loss=77.59883880615234\n",
      "epoch=22 loss=78.61006927490234\n",
      "epoch=23 loss=79.47471618652344\n",
      "epoch=24 loss=77.85454559326172\n",
      "epoch=25 loss=77.69974517822266\n",
      "epoch=26 loss=78.1929931640625\n",
      "epoch=27 loss=79.71031188964844\n",
      "epoch=28 loss=76.46756744384766\n",
      "epoch=29 loss=78.28387451171875\n",
      "epoch=30 loss=78.37136840820312\n",
      "epoch=31 loss=77.57733154296875\n",
      "epoch=32 loss=79.13097381591797\n",
      "epoch=33 loss=77.7765121459961\n",
      "epoch=34 loss=79.49771118164062\n",
      "epoch=35 loss=78.67991638183594\n",
      "epoch=36 loss=76.14156341552734\n",
      "epoch=37 loss=79.7647933959961\n",
      "epoch=38 loss=78.87950897216797\n",
      "epoch=39 loss=80.25188446044922\n",
      "epoch=40 loss=80.12322998046875\n",
      "epoch=41 loss=79.59847259521484\n",
      "epoch=42 loss=80.01908874511719\n",
      "epoch=43 loss=79.8476333618164\n",
      "epoch=44 loss=79.21562957763672\n",
      "epoch=45 loss=79.76905822753906\n",
      "epoch=46 loss=80.4867172241211\n",
      "epoch=47 loss=81.08694458007812\n",
      "epoch=48 loss=81.1535873413086\n",
      "epoch=49 loss=80.93946075439453\n",
      "epoch=50 loss=81.90715026855469\n",
      "epoch=51 loss=82.74929809570312\n",
      "epoch=52 loss=81.30194854736328\n",
      "epoch=53 loss=82.24954986572266\n",
      "epoch=54 loss=81.99031066894531\n",
      "epoch=55 loss=81.95600128173828\n",
      "epoch=56 loss=82.58776092529297\n",
      "epoch=57 loss=81.87299346923828\n",
      "epoch=58 loss=83.41790008544922\n",
      "epoch=59 loss=81.42169952392578\n",
      "epoch=60 loss=83.04267120361328\n",
      "epoch=61 loss=83.13213348388672\n",
      "epoch=62 loss=83.12586212158203\n",
      "epoch=63 loss=82.79882049560547\n",
      "epoch=64 loss=83.59883880615234\n",
      "epoch=65 loss=83.1153793334961\n",
      "epoch=66 loss=86.51990509033203\n",
      "epoch=67 loss=83.19275665283203\n",
      "epoch=68 loss=85.0666275024414\n",
      "epoch=69 loss=83.95708465576172\n",
      "epoch=70 loss=82.7367172241211\n",
      "epoch=71 loss=85.69779205322266\n",
      "epoch=72 loss=85.4399185180664\n",
      "epoch=73 loss=85.69056701660156\n",
      "epoch=74 loss=85.63982391357422\n",
      "epoch=75 loss=87.16889190673828\n",
      "epoch=76 loss=87.21692657470703\n",
      "epoch=77 loss=86.34132385253906\n",
      "epoch=78 loss=84.38861846923828\n",
      "epoch=79 loss=85.57843780517578\n",
      "epoch=80 loss=87.07807922363281\n",
      "epoch=81 loss=86.52567291259766\n",
      "epoch=82 loss=85.42840576171875\n",
      "epoch=83 loss=86.75648498535156\n",
      "epoch=84 loss=85.29328918457031\n",
      "epoch=85 loss=87.39500427246094\n",
      "epoch=86 loss=87.14202880859375\n",
      "epoch=87 loss=89.11673736572266\n",
      "epoch=88 loss=88.74663543701172\n",
      "epoch=89 loss=87.310791015625\n",
      "epoch=90 loss=88.87606048583984\n",
      "epoch=91 loss=86.98301696777344\n",
      "epoch=92 loss=88.23880767822266\n",
      "epoch=93 loss=88.45528411865234\n",
      "epoch=94 loss=86.9073715209961\n",
      "epoch=95 loss=88.59101104736328\n",
      "epoch=96 loss=87.80419921875\n",
      "epoch=97 loss=90.5055923461914\n",
      "epoch=98 loss=89.25282287597656\n",
      "epoch=99 loss=89.61305236816406\n",
      "epoch=100 loss=89.8393325805664\n",
      "epoch=101 loss=89.08776092529297\n",
      "epoch=102 loss=90.88218688964844\n",
      "epoch=103 loss=88.12713623046875\n",
      "epoch=104 loss=91.74000549316406\n",
      "epoch=105 loss=91.1109619140625\n",
      "epoch=106 loss=90.8550796508789\n",
      "epoch=107 loss=90.87334442138672\n",
      "epoch=108 loss=89.36975860595703\n",
      "epoch=109 loss=91.46927642822266\n",
      "epoch=110 loss=91.67121887207031\n",
      "epoch=111 loss=91.16393280029297\n",
      "epoch=112 loss=91.21773529052734\n",
      "epoch=113 loss=91.0143051147461\n",
      "epoch=114 loss=92.26677703857422\n",
      "epoch=115 loss=93.44647979736328\n",
      "epoch=116 loss=91.69699096679688\n",
      "epoch=117 loss=92.23587036132812\n",
      "epoch=118 loss=90.55979919433594\n",
      "epoch=119 loss=93.81244659423828\n",
      "epoch=120 loss=91.54283905029297\n",
      "epoch=121 loss=91.43749237060547\n",
      "epoch=122 loss=94.65867614746094\n",
      "epoch=123 loss=93.1424560546875\n",
      "epoch=124 loss=93.02690887451172\n",
      "epoch=125 loss=92.43821716308594\n",
      "epoch=126 loss=92.345703125\n",
      "epoch=127 loss=92.72107696533203\n",
      "epoch=128 loss=94.30689239501953\n",
      "epoch=129 loss=93.60077667236328\n",
      "epoch=130 loss=95.71772003173828\n",
      "epoch=131 loss=94.39668273925781\n",
      "epoch=132 loss=95.95663452148438\n",
      "epoch=133 loss=94.90617370605469\n",
      "epoch=134 loss=93.92649841308594\n",
      "epoch=135 loss=94.90782165527344\n",
      "epoch=136 loss=95.4085922241211\n",
      "epoch=137 loss=96.81051635742188\n",
      "epoch=138 loss=94.40057373046875\n",
      "epoch=139 loss=96.46104431152344\n",
      "epoch=140 loss=97.79151153564453\n",
      "epoch=141 loss=95.03583526611328\n",
      "epoch=142 loss=93.8237075805664\n",
      "epoch=143 loss=96.79197692871094\n",
      "epoch=144 loss=95.77068328857422\n",
      "epoch=145 loss=97.1943359375\n",
      "epoch=146 loss=96.79218292236328\n",
      "epoch=147 loss=96.29092407226562\n",
      "epoch=148 loss=97.8068618774414\n",
      "epoch=149 loss=97.08920288085938\n",
      "epoch=150 loss=97.02035522460938\n",
      "epoch=151 loss=96.14960479736328\n",
      "epoch=152 loss=97.2707748413086\n",
      "epoch=153 loss=97.3261947631836\n",
      "epoch=154 loss=97.27350616455078\n",
      "epoch=155 loss=98.17091369628906\n",
      "epoch=156 loss=97.63423156738281\n",
      "epoch=157 loss=99.12754821777344\n",
      "epoch=158 loss=99.04468536376953\n",
      "epoch=159 loss=98.63804626464844\n",
      "epoch=160 loss=98.89006042480469\n",
      "epoch=161 loss=97.46159362792969\n",
      "epoch=162 loss=98.80918884277344\n",
      "epoch=163 loss=98.86408996582031\n",
      "epoch=164 loss=99.0708999633789\n",
      "epoch=165 loss=99.3896255493164\n",
      "epoch=166 loss=98.65111541748047\n",
      "epoch=167 loss=99.3320541381836\n",
      "epoch=168 loss=100.51054382324219\n",
      "epoch=169 loss=100.8731918334961\n",
      "epoch=170 loss=99.50238037109375\n",
      "epoch=171 loss=101.46574401855469\n",
      "epoch=172 loss=99.15117645263672\n",
      "epoch=173 loss=98.51497650146484\n",
      "epoch=174 loss=101.21825408935547\n",
      "epoch=175 loss=101.0869140625\n",
      "epoch=176 loss=99.60096740722656\n",
      "epoch=177 loss=102.68719482421875\n",
      "epoch=178 loss=100.9052505493164\n",
      "epoch=179 loss=100.54867553710938\n",
      "epoch=180 loss=99.2866439819336\n",
      "epoch=181 loss=101.02680206298828\n",
      "epoch=182 loss=100.6898422241211\n",
      "epoch=183 loss=101.56480407714844\n",
      "epoch=184 loss=101.44317626953125\n",
      "epoch=185 loss=101.27681732177734\n",
      "epoch=186 loss=101.94651794433594\n",
      "epoch=187 loss=101.51438903808594\n",
      "epoch=188 loss=102.96504974365234\n",
      "epoch=189 loss=102.22785186767578\n",
      "epoch=190 loss=101.75881958007812\n",
      "epoch=191 loss=101.31385803222656\n",
      "epoch=192 loss=104.24212646484375\n",
      "epoch=193 loss=103.45735168457031\n",
      "epoch=194 loss=102.35231018066406\n",
      "epoch=195 loss=102.317626953125\n",
      "epoch=196 loss=102.24676513671875\n",
      "epoch=197 loss=103.9921875\n",
      "epoch=198 loss=103.56293487548828\n",
      "epoch=199 loss=103.7032470703125\n"
     ]
    }
   ],
   "source": [
    "import os\n",
    "import datetime\n",
    "from torch.utils.tensorboard import SummaryWriter\n",
    "\n",
    "tensorboard=SummaryWriter(log_dir=f'./runs/vae/{datetime.datetime.now().strftime(\"%Y%m%d-%H%M%S\")}')\n",
    "\n",
    "iters=0\n",
    "epoch=0\n",
    "model.train()\n",
    "for i in range(200):\n",
    "    for batch_img,batch_labels in dataloader:\n",
    "        batch_img=batch_img.to(device)\n",
    "        batch_labels=batch_labels.to(device)\n",
    "        recon_x,mu,logvar=model(batch_img)\n",
    "        optimizer.zero_grad()\n",
    "        recon_loss=torch.sum(torch.nn.functional.binary_cross_entropy(recon_x,batch_img,reduction='none'),dim=(1,2,3))\n",
    "        kl_loss=-0.5*torch.sum(1+logvar-mu.pow(2)-logvar.exp(),dim=-1)\n",
    "        loss=torch.mean(recon_loss+i/200*kl_loss)\n",
    "        loss.backward()\n",
    "        optimizer.step()\n",
    "        tensorboard.add_scalar('vae/loss',loss.item(),iters)\n",
    "        tensorboard.add_scalar('vae/recon_loss',torch.mean(recon_loss).item(),iters)\n",
    "        tensorboard.add_scalar('vae/kl_loss',torch.mean(kl_loss).item(),iters)\n",
    "        iters+=1\n",
    "    torch.save(model.state_dict(),'.model.pt')\n",
    "    os.replace('.model.pt','model.pt')\n",
    "    print(f'epoch={epoch} loss={loss.item()}')\n",
    "    epoch+=1"
   ]
  },
  {
   "cell_type": "markdown",
   "id": "5ff27feb",
   "metadata": {},
   "source": [
    "复原"
   ]
  },
  {
   "cell_type": "code",
   "execution_count": 73,
   "id": "a8d29663",
   "metadata": {},
   "outputs": [
    {
     "data": {
      "text/plain": [
       "<matplotlib.image.AxesImage at 0x2718ca2f370>"
      ]
     },
     "execution_count": 73,
     "metadata": {},
     "output_type": "execute_result"
    },
    {
     "data": {
      "image/png": "[encoded data removed]",
      "text/plain": [
       "<Figure size 200x200 with 2 Axes>"
      ]
     },
     "metadata": {},
     "output_type": "display_data"
    }
   ],
   "source": [
    "import matplotlib.pyplot as plt\n",
    "import random\n",
    "\n",
    "model.eval()\n",
    "with torch.no_grad():\n",
    "    img,_=dataset[random.randint(0,len(dataset))]\n",
    "    recon_x,mu,logvar=model(img.unsqueeze(0).to(device))\n",
    "\n",
    "plt.figure(figsize=(2,2))\n",
    "plt.subplot(1,2,1)\n",
    "plt.imshow(img.view(28,28).numpy())\n",
    "plt.subplot(1,2,2)\n",
    "plt.imshow(recon_x.view(28,28).cpu().numpy())"
   ]
  },
  {
   "cell_type": "markdown",
   "id": "5b367a8f",
   "metadata": {},
   "source": [
    "生成"
   ]
  },
  {
   "cell_type": "code",
   "execution_count": 92,
   "id": "9a219987",
   "metadata": {},
   "outputs": [
    {
     "data": {
      "text/plain": [
       "<matplotlib.image.AxesImage at 0x2718d0482b0>"
      ]
     },
     "execution_count": 92,
     "metadata": {},
     "output_type": "execute_result"
    },
    {
     "data": {
      "image/png": "[encoded data removed]",
      "text/plain": [
       "<Figure size 100x100 with 1 Axes>"
      ]
     },
     "metadata": {},
     "output_type": "display_data"
    }
   ],
   "source": [
    "import matplotlib.pyplot as plt\n",
    "\n",
    "model.eval()\n",
    "with torch.no_grad():\n",
    "    latent=torch.randn(1,20).to(device)\n",
    "    recon_x=model.decode(latent)\n",
    "plt.figure(figsize=(1,1))\n",
    "plt.imshow(recon_x.view(28,28).cpu().numpy())"
   ]
  }
 ],
 "metadata": {
  "kernelspec": {
   "display_name": "torch-vae",
   "language": "python",
   "name": "python3"
  },
  "language_info": {
   "codemirror_mode": {
    "name": "ipython",
    "version": 3
   },
   "file_extension": ".py",
   "mimetype": "text/x-python",
   "name": "python",
   "nbconvert_exporter": "python",
   "pygments_lexer": "ipython3",
   "version": "3.10.16"
  }
 },
 "nbformat": 4,
 "nbformat_minor": 5
}
